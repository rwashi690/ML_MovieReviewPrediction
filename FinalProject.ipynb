{
 "cells": [
  {
   "cell_type": "markdown",
   "id": "b42eab7c",
   "metadata": {},
   "source": [
    "# Predicting Favorable and Unfavorable Movie Reviews\n",
    "The goal of this project is to utilize several machine learning models to determine what model can best predict whether a review will be positive or negative for a movie. The dataset was found on Kaggle and was scrubbed from the IMDB website.\n",
    "https://www.kaggle.com/datasets/lakshmi25npathi/imdb-dataset-of-50k-movie-reviews/data\n",
    "\n",
    "This project will perform non negative matrix factorization and several clustering techniques to determine which is the most effective at predicting if a review at Starbucks will be positive or negative\n",
    "\n",
    "#### Results\n",
    "Overall non-negative matrix factorization lead to the best result. I believe this is due to the inherent nature of NMF causing some noise reduction in the data. In the future additional models could be made to try and increase the accuracy of predicting whether a movie is popular or not."
   ]
  },
  {
   "cell_type": "code",
   "execution_count": 34,
   "id": "44a148d6",
   "metadata": {},
   "outputs": [],
   "source": [
    "import pandas as pd\n",
    "import matplotlib.pyplot as plt\n",
    "import seaborn as sns\n",
    "import numpy as np\n",
    "from sklearn.feature_extraction.text import TfidfVectorizer\n",
    "from sklearn.decomposition import NMF\n",
    "from sklearn.linear_model import LogisticRegression\n",
    "from sklearn.pipeline import Pipeline\n",
    "from sklearn.svm import SVC\n",
    "from sklearn.ensemble import RandomForestClassifier\n",
    "from sklearn.ensemble import AdaBoostClassifier\n",
    "from wordcloud import WordCloud\n",
    "from sklearn.model_selection import cross_val_score\n",
    "import re\n",
    "import itertools\n",
    "from sklearn.metrics import accuracy_score, confusion_matrix\n",
    "from sklearn.decomposition import TruncatedSVD\n",
    "from sklearn.cluster import AgglomerativeClustering, KMeans\n",
    "from sklearn.cluster import SpectralClustering"
   ]
  },
  {
   "cell_type": "code",
   "execution_count": 35,
   "id": "f447357a",
   "metadata": {},
   "outputs": [],
   "source": [
    "df = pd.read_csv('IMDB_Dataset.csv')"
   ]
  },
  {
   "cell_type": "code",
   "execution_count": 36,
   "id": "23c93b09",
   "metadata": {},
   "outputs": [
    {
     "name": "stdout",
     "output_type": "stream",
     "text": [
      "<class 'pandas.core.frame.DataFrame'>\n",
      "RangeIndex: 50000 entries, 0 to 49999\n",
      "Data columns (total 2 columns):\n",
      " #   Column     Non-Null Count  Dtype \n",
      "---  ------     --------------  ----- \n",
      " 0   review     50000 non-null  object\n",
      " 1   sentiment  50000 non-null  object\n",
      "dtypes: object(2)\n",
      "memory usage: 781.4+ KB\n"
     ]
    }
   ],
   "source": [
    "df.info()"
   ]
  },
  {
   "cell_type": "code",
   "execution_count": 37,
   "id": "539223bd",
   "metadata": {},
   "outputs": [
    {
     "data": {
      "text/html": [
       "<div>\n",
       "<style scoped>\n",
       "    .dataframe tbody tr th:only-of-type {\n",
       "        vertical-align: middle;\n",
       "    }\n",
       "\n",
       "    .dataframe tbody tr th {\n",
       "        vertical-align: top;\n",
       "    }\n",
       "\n",
       "    .dataframe thead th {\n",
       "        text-align: right;\n",
       "    }\n",
       "</style>\n",
       "<table border=\"1\" class=\"dataframe\">\n",
       "  <thead>\n",
       "    <tr style=\"text-align: right;\">\n",
       "      <th></th>\n",
       "      <th>review</th>\n",
       "      <th>sentiment</th>\n",
       "    </tr>\n",
       "  </thead>\n",
       "  <tbody>\n",
       "    <tr>\n",
       "      <th>0</th>\n",
       "      <td>One of the other reviewers has mentioned that ...</td>\n",
       "      <td>positive</td>\n",
       "    </tr>\n",
       "    <tr>\n",
       "      <th>1</th>\n",
       "      <td>A wonderful little production. &lt;br /&gt;&lt;br /&gt;The...</td>\n",
       "      <td>positive</td>\n",
       "    </tr>\n",
       "    <tr>\n",
       "      <th>2</th>\n",
       "      <td>I thought this was a wonderful way to spend ti...</td>\n",
       "      <td>positive</td>\n",
       "    </tr>\n",
       "    <tr>\n",
       "      <th>3</th>\n",
       "      <td>Basically there's a family where a little boy ...</td>\n",
       "      <td>negative</td>\n",
       "    </tr>\n",
       "    <tr>\n",
       "      <th>4</th>\n",
       "      <td>Petter Mattei's \"Love in the Time of Money\" is...</td>\n",
       "      <td>positive</td>\n",
       "    </tr>\n",
       "  </tbody>\n",
       "</table>\n",
       "</div>"
      ],
      "text/plain": [
       "                                              review sentiment\n",
       "0  One of the other reviewers has mentioned that ...  positive\n",
       "1  A wonderful little production. <br /><br />The...  positive\n",
       "2  I thought this was a wonderful way to spend ti...  positive\n",
       "3  Basically there's a family where a little boy ...  negative\n",
       "4  Petter Mattei's \"Love in the Time of Money\" is...  positive"
      ]
     },
     "execution_count": 37,
     "metadata": {},
     "output_type": "execute_result"
    }
   ],
   "source": [
    "df.head()"
   ]
  },
  {
   "cell_type": "code",
   "execution_count": 38,
   "id": "387a289a",
   "metadata": {},
   "outputs": [],
   "source": [
    "#Going to do some data cleaning\n",
    "\n",
    "df.loc[:,'review']=df['review'].str.lower()\n",
    "df.loc[:,'review'] = df['review'].apply(lambda x: x.replace('<br /><br />', '').replace('*', '').replace('\"', '').replace(',',''))\n"
   ]
  },
  {
   "cell_type": "code",
   "execution_count": 39,
   "id": "598ff2e4",
   "metadata": {},
   "outputs": [],
   "source": [
    "for col in df.columns:\n",
    "    df[col] = df[col].astype(str)"
   ]
  },
  {
   "cell_type": "code",
   "execution_count": 40,
   "id": "268c9677",
   "metadata": {},
   "outputs": [
    {
     "data": {
      "text/html": [
       "<div>\n",
       "<style scoped>\n",
       "    .dataframe tbody tr th:only-of-type {\n",
       "        vertical-align: middle;\n",
       "    }\n",
       "\n",
       "    .dataframe tbody tr th {\n",
       "        vertical-align: top;\n",
       "    }\n",
       "\n",
       "    .dataframe thead th {\n",
       "        text-align: right;\n",
       "    }\n",
       "</style>\n",
       "<table border=\"1\" class=\"dataframe\">\n",
       "  <thead>\n",
       "    <tr style=\"text-align: right;\">\n",
       "      <th></th>\n",
       "      <th>review</th>\n",
       "      <th>sentiment</th>\n",
       "    </tr>\n",
       "  </thead>\n",
       "  <tbody>\n",
       "    <tr>\n",
       "      <th>0</th>\n",
       "      <td>one of the other reviewers has mentioned that ...</td>\n",
       "      <td>positive</td>\n",
       "    </tr>\n",
       "    <tr>\n",
       "      <th>1</th>\n",
       "      <td>a wonderful little production. the filming tec...</td>\n",
       "      <td>positive</td>\n",
       "    </tr>\n",
       "    <tr>\n",
       "      <th>2</th>\n",
       "      <td>i thought this was a wonderful way to spend ti...</td>\n",
       "      <td>positive</td>\n",
       "    </tr>\n",
       "    <tr>\n",
       "      <th>3</th>\n",
       "      <td>basically there's a family where a little boy ...</td>\n",
       "      <td>negative</td>\n",
       "    </tr>\n",
       "    <tr>\n",
       "      <th>4</th>\n",
       "      <td>petter mattei's love in the time of money is a...</td>\n",
       "      <td>positive</td>\n",
       "    </tr>\n",
       "    <tr>\n",
       "      <th>...</th>\n",
       "      <td>...</td>\n",
       "      <td>...</td>\n",
       "    </tr>\n",
       "    <tr>\n",
       "      <th>49995</th>\n",
       "      <td>i thought this movie did a down right good job...</td>\n",
       "      <td>positive</td>\n",
       "    </tr>\n",
       "    <tr>\n",
       "      <th>49996</th>\n",
       "      <td>bad plot bad dialogue bad acting idiotic direc...</td>\n",
       "      <td>negative</td>\n",
       "    </tr>\n",
       "    <tr>\n",
       "      <th>49997</th>\n",
       "      <td>i am a catholic taught in parochial elementary...</td>\n",
       "      <td>negative</td>\n",
       "    </tr>\n",
       "    <tr>\n",
       "      <th>49998</th>\n",
       "      <td>i'm going to have to disagree with the previou...</td>\n",
       "      <td>negative</td>\n",
       "    </tr>\n",
       "    <tr>\n",
       "      <th>49999</th>\n",
       "      <td>no one expects the star trek movies to be high...</td>\n",
       "      <td>negative</td>\n",
       "    </tr>\n",
       "  </tbody>\n",
       "</table>\n",
       "<p>50000 rows × 2 columns</p>\n",
       "</div>"
      ],
      "text/plain": [
       "                                                  review sentiment\n",
       "0      one of the other reviewers has mentioned that ...  positive\n",
       "1      a wonderful little production. the filming tec...  positive\n",
       "2      i thought this was a wonderful way to spend ti...  positive\n",
       "3      basically there's a family where a little boy ...  negative\n",
       "4      petter mattei's love in the time of money is a...  positive\n",
       "...                                                  ...       ...\n",
       "49995  i thought this movie did a down right good job...  positive\n",
       "49996  bad plot bad dialogue bad acting idiotic direc...  negative\n",
       "49997  i am a catholic taught in parochial elementary...  negative\n",
       "49998  i'm going to have to disagree with the previou...  negative\n",
       "49999  no one expects the star trek movies to be high...  negative\n",
       "\n",
       "[50000 rows x 2 columns]"
      ]
     },
     "execution_count": 40,
     "metadata": {},
     "output_type": "execute_result"
    }
   ],
   "source": [
    "df"
   ]
  },
  {
   "cell_type": "code",
   "execution_count": 41,
   "id": "700c1cf8",
   "metadata": {},
   "outputs": [],
   "source": [
    "#Went ahead and removed punctuation marks"
   ]
  },
  {
   "cell_type": "code",
   "execution_count": 42,
   "id": "d344a427",
   "metadata": {},
   "outputs": [
    {
     "name": "stdout",
     "output_type": "stream",
     "text": [
      "<class 'pandas.core.frame.DataFrame'>\n",
      "RangeIndex: 50000 entries, 0 to 49999\n",
      "Data columns (total 2 columns):\n",
      " #   Column     Non-Null Count  Dtype \n",
      "---  ------     --------------  ----- \n",
      " 0   review     50000 non-null  object\n",
      " 1   sentiment  50000 non-null  object\n",
      "dtypes: object(2)\n",
      "memory usage: 781.4+ KB\n"
     ]
    }
   ],
   "source": [
    "df.info()"
   ]
  },
  {
   "cell_type": "code",
   "execution_count": 10,
   "id": "32879cdc",
   "metadata": {},
   "outputs": [
    {
     "data": {
      "text/plain": [
       "Text(0.5, 1.0, 'Counts of Positive vs Negative Reviews')"
      ]
     },
     "execution_count": 10,
     "metadata": {},
     "output_type": "execute_result"
    },
    {
     "data": {
      "image/png": "[encoded data removed]",
      "text/plain": [
       "<Figure size 640x480 with 1 Axes>"
      ]
     },
     "metadata": {},
     "output_type": "display_data"
    }
   ],
   "source": [
    "ratingCounts = df['sentiment'].value_counts()\n",
    "ratingCounts.plot(kind='bar')\n",
    "plt.xlabel('Sentiment')\n",
    "plt.ylabel('Count')\n",
    "plt.title('Counts of Positive vs Negative Reviews')"
   ]
  },
  {
   "cell_type": "markdown",
   "id": "ad8fc85c",
   "metadata": {},
   "source": [
    "Lots of one star reviews, model might be able to pick up one star reviews better than other ratings because of this"
   ]
  },
  {
   "cell_type": "code",
   "execution_count": 11,
   "id": "0a3a7938",
   "metadata": {},
   "outputs": [],
   "source": [
    "dflength = df\n",
    "dflength.loc[:,'ReviewLength'] = dflength['review'].apply(lambda x: len(x))"
   ]
  },
  {
   "cell_type": "code",
   "execution_count": 12,
   "id": "50080b5d",
   "metadata": {},
   "outputs": [
    {
     "data": {
      "image/png": "[encoded data removed]",
      "text/plain": [
       "<Figure size 1000x400 with 1 Axes>"
      ]
     },
     "metadata": {},
     "output_type": "display_data"
    }
   ],
   "source": [
    "\n",
    "ratings = df['sentiment'].unique()\n",
    "\n",
    "\n",
    "plt.figure(figsize=(10,4))\n",
    "for rating in ratings:\n",
    "    ratingdata = dflength[dflength['sentiment'] == rating]['ReviewLength']\n",
    "    plt.hist(ratingdata, bins=35, alpha=0.4, label=rating)\n",
    "    \n",
    "plt.xlabel('Review Length')\n",
    "plt.ylabel('Frequency')\n",
    "plt.title('Distribution of Review Text Lengths by Sentiment')\n",
    "plt.legend()\n",
    "plt.show()"
   ]
  },
  {
   "cell_type": "markdown",
   "id": "5a88fe37",
   "metadata": {},
   "source": [
    "Both positive and negative reviews are about the same length, and there are equal amounts of positive and negative reviews in my dataset."
   ]
  },
  {
   "cell_type": "markdown",
   "id": "5dbdaa22",
   "metadata": {},
   "source": [
    "### Supplementary Code\n",
    "Code to predict labels"
   ]
  },
  {
   "cell_type": "code",
   "execution_count": 10,
   "id": "1ef19fd4",
   "metadata": {},
   "outputs": [],
   "source": [
    "def predict(w):\n",
    "    sortedindices = np.argsort(w, axis=1)\n",
    "    nPredictions, maxValue = sortedindices.shape\n",
    "    topics = np.empty(nPredictions, dtype=np.int64)\n",
    "    for i in range(nPredictions):\n",
    "        topics[i] = sortedindices[i][-1]\n",
    "    return topics\n",
    "\n",
    "def permuteLabels(ytdf, yp, n):\n",
    "    perms = list(itertools.permutations(list(range(n))))\n",
    "    acc = float(0)\n",
    "    bestLabels = []\n",
    "    bestmatch = {}\n",
    "    labels = [\"positive\", \"negative\"]\n",
    "    \n",
    "    for perm in perms:\n",
    "        current = {labels[i]: perm[i] for i in range(n)}\n",
    "        ytdf['test'] = ytdf['sentiment'].map(current)\n",
    "        currentAcc = accuracy_score(ytdf['test'],yp)\n",
    "        if currentAcc > acc:\n",
    "            acc = currentAcc\n",
    "            bestLabels=perm\n",
    "            bestmatch=current\n",
    "            ytdf['best']=ytdf['test']\n",
    "    return bestLabels, acc, bestmatch\n"
   ]
  },
  {
   "cell_type": "markdown",
   "id": "56ebc929",
   "metadata": {},
   "source": [
    "### Vectorizing Code"
   ]
  },
  {
   "cell_type": "code",
   "execution_count": 39,
   "id": "c896f5d9",
   "metadata": {},
   "outputs": [],
   "source": [
    "n=2\n",
    "vectorizer = TfidfVectorizer(max_df=0.95, min_df=2,stop_words='english')\n",
    "xtf = vectorizer.fit_transform(df['review'])"
   ]
  },
  {
   "cell_type": "markdown",
   "id": "f5d90b9a",
   "metadata": {},
   "source": [
    "## Non-negative Matrix Factorization"
   ]
  },
  {
   "cell_type": "code",
   "execution_count": 38,
   "id": "933f5966",
   "metadata": {},
   "outputs": [],
   "source": [
    "dfNMF=df\n",
    "nmfModel =NMF(n_components=n, init='random', random_state=42)\n",
    "WNMF = nmfModel.fit_transform(xtf)\n",
    "ypNMF=predict(WNMF)\n",
    "HNMF = nmfModel.components_"
   ]
  },
  {
   "cell_type": "code",
   "execution_count": 39,
   "id": "363a833e",
   "metadata": {},
   "outputs": [
    {
     "data": {
      "text/plain": [
       "array([0, 0, 0, ..., 1, 0, 1])"
      ]
     },
     "execution_count": 39,
     "metadata": {},
     "output_type": "execute_result"
    }
   ],
   "source": [
    "ypNMF"
   ]
  },
  {
   "cell_type": "code",
   "execution_count": 40,
   "id": "c38f61f5",
   "metadata": {},
   "outputs": [],
   "source": [
    "labels, accuracy, bestmatch = permuteLabels(dfNMF,ypNMF,2)"
   ]
  },
  {
   "cell_type": "code",
   "execution_count": 41,
   "id": "3c12dfdd",
   "metadata": {},
   "outputs": [
    {
     "name": "stdout",
     "output_type": "stream",
     "text": [
      "Best Labels (0, 1)\n",
      "Best Accuracy 0.5969\n",
      "Best Match for Labels {'positive': 0, 'negative': 1}\n"
     ]
    }
   ],
   "source": [
    "#Results from first\n",
    "print('Best Labels', labels)\n",
    "print('Best Accuracy', accuracy)\n",
    "print('Best Match for Labels', bestmatch)"
   ]
  },
  {
   "cell_type": "code",
   "execution_count": 43,
   "id": "3d86d025",
   "metadata": {},
   "outputs": [],
   "source": [
    "#Now the confusion matrix\n",
    "dfConfusionNMF=dfNMF\n",
    "dfConfusionNMF['sentiment'] = dfNMF['sentiment'].replace({'positive': 0, 'negative': 1})\n",
    "MatrixNMF=confusion_matrix(dfConfusionNMF['sentiment'],ypNMF)\n"
   ]
  },
  {
   "cell_type": "code",
   "execution_count": 44,
   "id": "4c84fde1",
   "metadata": {},
   "outputs": [
    {
     "data": {
      "image/png": "[encoded data removed]",
      "text/plain": [
       "<Figure size 800x800 with 2 Axes>"
      ]
     },
     "metadata": {},
     "output_type": "display_data"
    }
   ],
   "source": [
    "plt.figure(figsize=(8,8))\n",
    "sns.heatmap(MatrixNMF, annot=True, cmap='Blues', fmt='g')\n",
    "plt.title('Confusion Matrix')\n",
    "plt.xlabel('Predicted Labels')\n",
    "plt.ylabel('True Labels')\n",
    "plt.show()"
   ]
  },
  {
   "cell_type": "markdown",
   "id": "f544249b",
   "metadata": {},
   "source": [
    "Predicted more correct data points than incorrect but accuracy is still very poor"
   ]
  },
  {
   "cell_type": "code",
   "execution_count": 53,
   "id": "f99c15f9",
   "metadata": {},
   "outputs": [
    {
     "name": "stdout",
     "output_type": "stream",
     "text": [
      "<class 'pandas.core.frame.DataFrame'>\n",
      "RangeIndex: 50000 entries, 0 to 49999\n",
      "Data columns (total 2 columns):\n",
      " #   Column     Non-Null Count  Dtype \n",
      "---  ------     --------------  ----- \n",
      " 0   review     50000 non-null  object\n",
      " 1   sentiment  50000 non-null  object\n",
      "dtypes: object(2)\n",
      "memory usage: 781.4+ KB\n"
     ]
    }
   ],
   "source": [
    "dfNMF2=df\n",
    "df.info()"
   ]
  },
  {
   "cell_type": "code",
   "execution_count": 54,
   "id": "9f70bc6d",
   "metadata": {},
   "outputs": [],
   "source": [
    "nmfModel2 =NMF(n_components=n, init='random', max_iter=200)\n",
    "WNMF2 = nmfModel2.fit_transform(xtf)\n",
    "ypNMF2=predict(WNMF2)\n",
    "HNMF2 = nmfModel2.components_"
   ]
  },
  {
   "cell_type": "code",
   "execution_count": 55,
   "id": "eec46de7",
   "metadata": {},
   "outputs": [],
   "source": [
    "labels2, accuracy2, bestmatch2 = permuteLabels(dfNMF2,ypNMF2,2)"
   ]
  },
  {
   "cell_type": "code",
   "execution_count": 56,
   "id": "576b2db8",
   "metadata": {},
   "outputs": [
    {
     "name": "stdout",
     "output_type": "stream",
     "text": [
      "Best Labels (1, 0)\n",
      "Best Accuracy 0.5639\n",
      "Best Match for Labels {'positive': 1, 'negative': 0}\n"
     ]
    }
   ],
   "source": [
    "#Results from second\n",
    "print('Best Labels', labels2)\n",
    "print('Best Accuracy', accuracy2)\n",
    "print('Best Match for Labels', bestmatch2)"
   ]
  },
  {
   "cell_type": "code",
   "execution_count": 58,
   "id": "42b19975",
   "metadata": {},
   "outputs": [],
   "source": [
    "dfConfusionNMF2=dfNMF2\n",
    "dfConfusionNMF2['sentiment'] = dfNMF2['sentiment'].replace({'positive': 1, 'negative': 0})\n",
    "MatrixNMF2=confusion_matrix(dfConfusionNMF2['sentiment'],ypNMF2)"
   ]
  },
  {
   "cell_type": "code",
   "execution_count": 59,
   "id": "8c2028e8",
   "metadata": {},
   "outputs": [
    {
     "data": {
      "image/png": "[encoded data removed]",
      "text/plain": [
       "<Figure size 800x800 with 2 Axes>"
      ]
     },
     "metadata": {},
     "output_type": "display_data"
    }
   ],
   "source": [
    "plt.figure(figsize=(8,8))\n",
    "sns.heatmap(MatrixNMF2, annot=True, cmap='Blues', fmt='g')\n",
    "plt.title('Confusion Matrix')\n",
    "plt.xlabel('Predicted Labels')\n",
    "plt.ylabel('True Labels')\n",
    "plt.show()"
   ]
  },
  {
   "cell_type": "code",
   "execution_count": null,
   "id": "a24714ba",
   "metadata": {},
   "outputs": [],
   "source": [
    "#This model did worse lets try clustering"
   ]
  },
  {
   "cell_type": "markdown",
   "id": "2f18aaf7",
   "metadata": {},
   "source": [
    "## Agglomerative Clustering"
   ]
  },
  {
   "cell_type": "code",
   "execution_count": 24,
   "id": "a2c8d122",
   "metadata": {},
   "outputs": [
    {
     "name": "stderr",
     "output_type": "stream",
     "text": [
      "/opt/anaconda3/lib/python3.11/site-packages/sklearn/cluster/_agglomerative.py:983: FutureWarning: Attribute `affinity` was deprecated in version 1.2 and will be removed in 1.4. Use `metric` instead\n",
      "  warnings.warn(\n",
      "/tmp/ipykernel_67869/3662032590.py:18: SettingWithCopyWarning: \n",
      "A value is trying to be set on a copy of a slice from a DataFrame.\n",
      "Try using .loc[row_indexer,col_indexer] = value instead\n",
      "\n",
      "See the caveats in the documentation: https://pandas.pydata.org/pandas-docs/stable/user_guide/indexing.html#returning-a-view-versus-a-copy\n",
      "  ytdf['test'] = ytdf['sentiment'].map(current)\n",
      "/tmp/ipykernel_67869/3662032590.py:24: SettingWithCopyWarning: \n",
      "A value is trying to be set on a copy of a slice from a DataFrame.\n",
      "Try using .loc[row_indexer,col_indexer] = value instead\n",
      "\n",
      "See the caveats in the documentation: https://pandas.pydata.org/pandas-docs/stable/user_guide/indexing.html#returning-a-view-versus-a-copy\n",
      "  ytdf['best']=ytdf['test']\n",
      "/tmp/ipykernel_67869/3662032590.py:18: SettingWithCopyWarning: \n",
      "A value is trying to be set on a copy of a slice from a DataFrame.\n",
      "Try using .loc[row_indexer,col_indexer] = value instead\n",
      "\n",
      "See the caveats in the documentation: https://pandas.pydata.org/pandas-docs/stable/user_guide/indexing.html#returning-a-view-versus-a-copy\n",
      "  ytdf['test'] = ytdf['sentiment'].map(current)\n"
     ]
    }
   ],
   "source": [
    "dfReduced = df.head(2000)\n",
    "n=2\n",
    "vectorizer = TfidfVectorizer(max_df=0.95, min_df=2,stop_words='english')\n",
    "xtfAg = vectorizer.fit_transform(dfReduced['review'])\n",
    "\n",
    "def makeAgglomerativeModel(data,linkageMethod, distanceMetric, n):\n",
    "    model = AgglomerativeClustering(n_clusters=n, linkage=linkageMethod, affinity=distanceMetric)\n",
    "    model.fit_predict(data.toarray())\n",
    "    return model.labels_\n",
    "\n",
    "linkageMethods = ['ward','complete', 'average','single']\n",
    "distanceMetrics = ['euclidean','l1', 'l2', 'manhattan', 'cosine']\n",
    "\n",
    "\n",
    "modelLabels=makeAgglomerativeModel(xtfAg,linkageMethods[0],distanceMetrics[0],2)\n",
    "labelOrder, Acc, bestMatch = permuteLabels(dfReduced, modelLabels, 2)\n"
   ]
  },
  {
   "cell_type": "code",
   "execution_count": 25,
   "id": "f5e38992",
   "metadata": {},
   "outputs": [
    {
     "name": "stdout",
     "output_type": "stream",
     "text": [
      "Best Labels (0, 1)\n",
      "Best Accuracy 0.5345\n",
      "Best Match for Labels {'positive': 0, 'negative': 1}\n"
     ]
    }
   ],
   "source": [
    "#Results from Agglomerative\n",
    "print('Best Labels', labelOrder)\n",
    "print('Best Accuracy', Acc)\n",
    "print('Best Match for Labels', bestMatch)"
   ]
  },
  {
   "cell_type": "code",
   "execution_count": 26,
   "id": "d7bf931e",
   "metadata": {},
   "outputs": [
    {
     "name": "stderr",
     "output_type": "stream",
     "text": [
      "/tmp/ipykernel_67869/2236378982.py:2: SettingWithCopyWarning: \n",
      "A value is trying to be set on a copy of a slice from a DataFrame.\n",
      "Try using .loc[row_indexer,col_indexer] = value instead\n",
      "\n",
      "See the caveats in the documentation: https://pandas.pydata.org/pandas-docs/stable/user_guide/indexing.html#returning-a-view-versus-a-copy\n",
      "  dfConfusionAg['sentiment'] = dfReduced['sentiment'].replace({'positive': 0, 'negative': 1})\n"
     ]
    }
   ],
   "source": [
    "dfConfusionAg=dfReduced\n",
    "dfConfusionAg['sentiment'] = dfReduced['sentiment'].replace({'positive': 0, 'negative': 1})\n",
    "MatrixAg=confusion_matrix(dfConfusionAg['sentiment'],modelLabels)"
   ]
  },
  {
   "cell_type": "code",
   "execution_count": 28,
   "id": "97e0028c",
   "metadata": {},
   "outputs": [
    {
     "data": {
      "image/png": "[encoded data removed]",
      "text/plain": [
       "<Figure size 800x800 with 2 Axes>"
      ]
     },
     "metadata": {},
     "output_type": "display_data"
    }
   ],
   "source": [
    "plt.figure(figsize=(8,8))\n",
    "sns.heatmap(MatrixAg, annot=True, cmap='Blues', fmt='g')\n",
    "plt.title('Confusion Matrix')\n",
    "plt.xlabel('Predicted Labels')\n",
    "plt.ylabel('True Labels')\n",
    "plt.show()"
   ]
  },
  {
   "cell_type": "markdown",
   "id": "e2baa99b",
   "metadata": {},
   "source": [
    "Aglomerative Clustering did worse but I had to use a smaller dataset because I didn't have a fast enough machine to use all the data"
   ]
  },
  {
   "cell_type": "markdown",
   "id": "d379f49a",
   "metadata": {},
   "source": [
    "## Spectral Clustering\n",
    "\n",
    "One last clustering model"
   ]
  },
  {
   "cell_type": "code",
   "execution_count": 55,
   "id": "27ac49df",
   "metadata": {},
   "outputs": [
    {
     "name": "stderr",
     "output_type": "stream",
     "text": [
      "/opt/anaconda3/lib/python3.11/site-packages/sklearn/manifold/_spectral_embedding.py:274: UserWarning: Graph is not fully connected, spectral embedding may not work as expected.\n",
      "  warnings.warn(\n"
     ]
    }
   ],
   "source": [
    "dfReduced = df.head(3000)\n",
    "n=2\n",
    "vectorizer = TfidfVectorizer(max_df=0.95, min_df=2,stop_words='english')\n",
    "xtfSpec = vectorizer.fit_transform(dfReduced['review'])\n",
    "\n",
    "specModel = SpectralClustering(n_clusters=2, affinity='nearest_neighbors', n_neighbors=2)\n",
    "clusterLabels = specModel.fit_predict(xtfSpec)"
   ]
  },
  {
   "cell_type": "code",
   "execution_count": 56,
   "id": "f9a0e255",
   "metadata": {},
   "outputs": [
    {
     "data": {
      "text/plain": [
       "array([0, 0, 1, ..., 1, 0, 1], dtype=int32)"
      ]
     },
     "execution_count": 56,
     "metadata": {},
     "output_type": "execute_result"
    }
   ],
   "source": [
    "clusterLabels"
   ]
  },
  {
   "cell_type": "code",
   "execution_count": 57,
   "id": "4524dcac",
   "metadata": {},
   "outputs": [
    {
     "data": {
      "text/plain": [
       "<3000x1 sparse matrix of type '<class 'numpy.float64'>'\n",
       "\twith 7 stored elements in Compressed Sparse Row format>"
      ]
     },
     "execution_count": 57,
     "metadata": {},
     "output_type": "execute_result"
    }
   ],
   "source": [
    "xtfSpec[:, 0]"
   ]
  },
  {
   "cell_type": "code",
   "execution_count": 58,
   "id": "7b798b16",
   "metadata": {},
   "outputs": [
    {
     "data": {
      "image/png": "[encoded data removed]",
      "text/plain": [
       "<Figure size 640x480 with 1 Axes>"
      ]
     },
     "metadata": {},
     "output_type": "display_data"
    }
   ],
   "source": [
    "plt.scatter(xtfSpec.toarray()[:, 0], xtfSpec.toarray()[:, 1], c=clusterLabels, cmap='viridis')\n",
    "plt.xlabel('Feature 1')\n",
    "plt.ylabel('Feature 2')\n",
    "plt.title('Spectral Clustering')\n",
    "plt.show()"
   ]
  },
  {
   "cell_type": "code",
   "execution_count": 59,
   "id": "aa7b9abd",
   "metadata": {},
   "outputs": [
    {
     "name": "stderr",
     "output_type": "stream",
     "text": [
      "/tmp/ipykernel_68260/3662032590.py:18: SettingWithCopyWarning: \n",
      "A value is trying to be set on a copy of a slice from a DataFrame.\n",
      "Try using .loc[row_indexer,col_indexer] = value instead\n",
      "\n",
      "See the caveats in the documentation: https://pandas.pydata.org/pandas-docs/stable/user_guide/indexing.html#returning-a-view-versus-a-copy\n",
      "  ytdf['test'] = ytdf['sentiment'].map(current)\n",
      "/tmp/ipykernel_68260/3662032590.py:24: SettingWithCopyWarning: \n",
      "A value is trying to be set on a copy of a slice from a DataFrame.\n",
      "Try using .loc[row_indexer,col_indexer] = value instead\n",
      "\n",
      "See the caveats in the documentation: https://pandas.pydata.org/pandas-docs/stable/user_guide/indexing.html#returning-a-view-versus-a-copy\n",
      "  ytdf['best']=ytdf['test']\n",
      "/tmp/ipykernel_68260/3662032590.py:18: SettingWithCopyWarning: \n",
      "A value is trying to be set on a copy of a slice from a DataFrame.\n",
      "Try using .loc[row_indexer,col_indexer] = value instead\n",
      "\n",
      "See the caveats in the documentation: https://pandas.pydata.org/pandas-docs/stable/user_guide/indexing.html#returning-a-view-versus-a-copy\n",
      "  ytdf['test'] = ytdf['sentiment'].map(current)\n"
     ]
    }
   ],
   "source": [
    "labelOrderSpec, AccSpec, bestMatchSpec = permuteLabels(dfReduced, clusterLabels, 2)\n"
   ]
  },
  {
   "cell_type": "code",
   "execution_count": 61,
   "id": "843b1ce7",
   "metadata": {},
   "outputs": [
    {
     "name": "stdout",
     "output_type": "stream",
     "text": [
      "Best Labels (0, 1)\n",
      "Best Accuracy 0.506\n",
      "Best Match for Labels {'positive': 0, 'negative': 1}\n"
     ]
    }
   ],
   "source": [
    "#Results from Spectral Clustering\n",
    "print('Best Labels', labelOrderSpec)\n",
    "print('Best Accuracy', AccSpec)\n",
    "print('Best Match for Labels', bestMatchSpec)"
   ]
  },
  {
   "cell_type": "code",
   "execution_count": 62,
   "id": "f2af90ae",
   "metadata": {},
   "outputs": [
    {
     "name": "stderr",
     "output_type": "stream",
     "text": [
      "/tmp/ipykernel_68260/696743438.py:2: SettingWithCopyWarning: \n",
      "A value is trying to be set on a copy of a slice from a DataFrame.\n",
      "Try using .loc[row_indexer,col_indexer] = value instead\n",
      "\n",
      "See the caveats in the documentation: https://pandas.pydata.org/pandas-docs/stable/user_guide/indexing.html#returning-a-view-versus-a-copy\n",
      "  dfConfusionSpec['sentiment'] = dfReduced['sentiment'].replace({'positive': 0, 'negative': 1})\n"
     ]
    }
   ],
   "source": [
    "dfConfusionSpec=dfReduced\n",
    "dfConfusionSpec['sentiment'] = dfReduced['sentiment'].replace({'positive': 0, 'negative': 1})\n",
    "MatrixSpec=confusion_matrix(dfConfusionSpec['sentiment'],clusterLabels)"
   ]
  },
  {
   "cell_type": "code",
   "execution_count": 65,
   "id": "0f792788",
   "metadata": {},
   "outputs": [
    {
     "data": {
      "image/png": "[encoded data removed]",
      "text/plain": [
       "<Figure size 800x800 with 2 Axes>"
      ]
     },
     "metadata": {},
     "output_type": "display_data"
    }
   ],
   "source": [
    "plt.figure(figsize=(8,8))\n",
    "sns.heatmap(MatrixSpec, annot=True, cmap='Blues', fmt='g')\n",
    "plt.title('Confusion Matrix')\n",
    "plt.xlabel('Predicted Labels')\n",
    "plt.ylabel('True Labels')\n",
    "plt.show()"
   ]
  },
  {
   "cell_type": "code",
   "execution_count": null,
   "id": "414b996b",
   "metadata": {},
   "outputs": [],
   "source": []
  }
 ],
 "metadata": {
  "kernelspec": {
   "display_name": "Python 3 (ipykernel)",
   "language": "python",
   "name": "python3"
  },
  "language_info": {
   "codemirror_mode": {
    "name": "ipython",
    "version": 3
   },
   "file_extension": ".py",
   "mimetype": "text/x-python",
   "name": "python",
   "nbconvert_exporter": "python",
   "pygments_lexer": "ipython3",
   "version": "3.11.8"
  }
 },
 "nbformat": 4,
 "nbformat_minor": 5
}
